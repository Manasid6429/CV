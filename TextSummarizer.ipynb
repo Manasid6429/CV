{
  "nbformat": 4,
  "nbformat_minor": 0,
  "metadata": {
    "colab": {
      "provenance": [],
      "authorship_tag": "ABX9TyNk/bnNWkqTvHViwqjnPLsR",
      "include_colab_link": true
    },
    "kernelspec": {
      "name": "python3",
      "display_name": "Python 3"
    },
    "language_info": {
      "name": "python"
    }
  },
  "cells": [
    {
      "cell_type": "markdown",
      "metadata": {
        "id": "view-in-github",
        "colab_type": "text"
      },
      "source": [
        "<a href=\"https://colab.research.google.com/github/Manasid6429/CV/blob/main/TextSummarizer.ipynb\" target=\"_parent\"><img src=\"https://colab.research.google.com/assets/colab-badge.svg\" alt=\"Open In Colab\"/></a>"
      ]
    },
    {
      "cell_type": "code",
      "execution_count": null,
      "metadata": {
        "colab": {
          "base_uri": "https://localhost:8080/"
        },
        "id": "B8R6jkc1ISik",
        "outputId": "3796adb4-5505-46ea-c72a-d95d0858773a"
      },
      "outputs": [
        {
          "output_type": "stream",
          "name": "stdout",
          "text": [
            "In a more formal way and depth, Merriam Webster defines a paragraph as – a subdivision of a written composition that consists of one or more sentences, deals with one point or gives the words of one speaker, and begins on a new usually indented line. In simple words, we can say that a paragraph consists of more than one sentence and the aim of a single paragraph is to carry a particular meaning.\n"
          ]
        },
        {
          "output_type": "stream",
          "name": "stderr",
          "text": [
            "[nltk_data] Downloading package punkt to /root/nltk_data...\n",
            "[nltk_data]   Package punkt is already up-to-date!\n",
            "[nltk_data] Downloading package stopwords to /root/nltk_data...\n",
            "[nltk_data]   Package stopwords is already up-to-date!\n"
          ]
        }
      ],
      "source": [
        "import nltk\n",
        "nltk.download('punkt')\n",
        "nltk.download('stopwords')\n",
        "\n",
        "from nltk.corpus import stopwords\n",
        "from nltk.tokenize import word_tokenize, sent_tokenize\n",
        "\n",
        "def calculate_word_frequencies(text):\n",
        "    stop_words = set(stopwords.words(\"english\"))\n",
        "    words = word_tokenize(text)\n",
        "    word_frequencies = {}\n",
        "    for word in words:\n",
        "        if word not in stop_words:\n",
        "            if word not in word_frequencies:\n",
        "                word_frequencies[word] = 1\n",
        "            else:\n",
        "                word_frequencies[word] += 1\n",
        "    return word_frequencies\n",
        "\n",
        "def calculate_sentence_scores(sentences, word_frequencies):\n",
        "    sentence_scores = {}\n",
        "    for sentence in sentences:\n",
        "        for word in word_tokenize(sentence):\n",
        "            if word in word_frequencies:\n",
        "                if sentence not in sentence_scores:\n",
        "                    sentence_scores[sentence] = word_frequencies[word]\n",
        "                else:\n",
        "                    sentence_scores[sentence] += word_frequencies[word]\n",
        "    return sentence_scores\n",
        "\n",
        "def generate_summary(text, num_sentences=3):\n",
        "    sentences = sent_tokenize(text)\n",
        "    word_frequencies = calculate_word_frequencies(text)\n",
        "    sentence_scores = calculate_sentence_scores(sentences, word_frequencies)\n",
        "    sorted_sentences = sorted(sentence_scores.items(), key=lambda x: x[1], reverse=True)\n",
        "    summary_sentences = [sentence for sentence, _ in sorted_sentences[:num_sentences]]\n",
        "    summary = \" \".join(summary_sentences)\n",
        "    return summary\n",
        "\n",
        "# Your input text\n",
        "text = \"\"\n",
        "# Generate a summary (you can change the number of sentences as needed)\n",
        "summary = generate_summary(text, num_sentences=4)\n",
        "\n",
        "# Print the summary\n",
        "print(summary)\n"
      ]
    }
  ]
}